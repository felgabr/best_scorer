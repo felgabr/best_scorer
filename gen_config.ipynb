{
 "cells": [
  {
   "cell_type": "markdown",
   "metadata": {},
   "source": [
    "# GENERATE CONFIG.JSON TO RUN SCORER"
   ]
  },
  {
   "cell_type": "markdown",
   "metadata": {},
   "source": [
    "This notebook was meant to briefly explain each parameter or give guidance to learn more about it and at the end generate the file necessarily to run the app."
   ]
  },
  {
   "cell_type": "markdown",
   "metadata": {},
   "source": [
    "### About the Project"
   ]
  },
  {
   "cell_type": "markdown",
   "metadata": {},
   "source": [
    "<center><img src=\"best_scorer.jpg\" alt=\"Drawing\" style=\"width: 200px;\" class=\"center\"/></center>"
   ]
  },
  {
   "cell_type": "markdown",
   "metadata": {},
   "source": [
    "This is a simple cookiecutter for development of propension models using pyspark."
   ]
  },
  {
   "cell_type": "code",
   "execution_count": null,
   "metadata": {
    "execution": {
     "iopub.execute_input": "2023-03-20T13:48:47.820188Z",
     "iopub.status.busy": "2023-03-20T13:48:47.819842Z",
     "iopub.status.idle": "2023-03-20T13:48:47.824615Z",
     "shell.execute_reply": "2023-03-20T13:48:47.823760Z",
     "shell.execute_reply.started": "2023-03-20T13:48:47.820146Z"
    }
   },
   "outputs": [],
   "source": [
    "import json\n",
    "import os\n",
    "import pathlib\n",
    "\n",
    "config = {}\n",
    "config_name = 'config.json'\n",
    "\n",
    "user = os.environ['USER']\n",
    "project = 'ProjectName'\n",
    "alias = 'r9'\n",
    "# HDFS folder to save outputs of project\n",
    "hdfs_path = f'/user/{user}/{project}'\n",
    "curr_dir = str(pathlib.Path().resolve())\n",
    "# Databases to use\n",
    "schema_in = 'DataBaseiN'\n",
    "schema_out = 'DataBaseOut'\n",
    "tables_in = ['tables']"
   ]
  },
  {
   "cell_type": "code",
   "execution_count": null,
   "metadata": {
    "execution": {
     "iopub.execute_input": "2023-03-20T13:48:48.247793Z",
     "iopub.status.busy": "2023-03-20T13:48:48.247479Z",
     "iopub.status.idle": "2023-03-20T13:48:48.251321Z",
     "shell.execute_reply": "2023-03-20T13:48:48.250525Z",
     "shell.execute_reply.started": "2023-03-20T13:48:48.247766Z"
    }
   },
   "outputs": [],
   "source": [
    "# MANAGING PARAMETERS\n",
    "config['project'] = project   # Project name: Most common name of project, e.g: churn_tarj_deb\n",
    "# Stage of development [DEV or PROD] if, PROD, intermediates tables will be erased in PROD\n",
    "config['mode'] = 'ExecutionType'    \n",
    "config['alias'] = alias   # Alias to identify a different set of parameters"
   ]
  },
  {
   "cell_type": "code",
   "execution_count": null,
   "metadata": {
    "execution": {
     "iopub.execute_input": "2023-03-20T13:48:48.423861Z",
     "iopub.status.busy": "2023-03-20T13:48:48.423555Z",
     "iopub.status.idle": "2023-03-20T13:48:48.427361Z",
     "shell.execute_reply": "2023-03-20T13:48:48.426553Z",
     "shell.execute_reply.started": "2023-03-20T13:48:48.423834Z"
    }
   },
   "outputs": [],
   "source": [
    "# SPARK PARAMETERS\n",
    "config['size'] = 'SizeSparkSession'   # Parameters of spark session\n",
    "config['new_part_cols'] = ['NewColumToPartition']   # New column to partition "
   ]
  },
  {
   "cell_type": "code",
   "execution_count": null,
   "metadata": {
    "execution": {
     "iopub.execute_input": "2023-03-20T13:48:48.568433Z",
     "iopub.status.busy": "2023-03-20T13:48:48.568100Z",
     "iopub.status.idle": "2023-03-20T13:48:48.575096Z",
     "shell.execute_reply": "2023-03-20T13:48:48.574274Z",
     "shell.execute_reply.started": "2023-03-20T13:48:48.568407Z"
    }
   },
   "outputs": [],
   "source": [
    "# SOURCE AND OUTPUT PARAMETERS\n",
    "# TABLES\n",
    "config['schema'] = schema_out\n",
    "config['prod_path'] = f'{hdfs_path}/prod/'\n",
    "config['table_sources'] = {}\n",
    "config['table_outputs'] = {}\n",
    "for i, table in enumerate(tables_in):\n",
    "    config['table_sources'][f'clean_{i}'] = f'{schema_in}.{table}'\n",
    "    config['table_outputs'][f'clean_{i}'] = f'{project}_cleaned_{i}'\n",
    "config['table_sources']['spine'] = f'{schema_in}.potentialsTable'\n",
    "config['table_sources']['spine_prod'] = f'{schema_in}.potentialsTableProd'\n",
    "config['table_outputs']['spine'] = f'{project}_spine'\n",
    "config['table_outputs']['spine_prod'] = f'{project}_master_prod'\n",
    "config['table_outputs']['dataset'] = f'{project}_dataset'\n",
    "config['table_outputs']['pred'] = f'{project}_pred_{alias}'\n",
    "config['table_outputs']['score'] = f'{project}_score_{alias}'\n",
    "config['table_outputs']['prod'] = f'{project}_score_prod'\n",
    "# FILES\n",
    "config['outputs'] = {}\n",
    "config['outputs']['prior'] = f'{hdfs_path}/prior'\n",
    "config['outputs']['feat_sel'] = {}\n",
    "config['outputs']['feat_sel']['infogain'] = f'{hdfs_path}/feat_sel/infogain'\n",
    "config['outputs']['feat_sel']['chisqrd'] = f'{hdfs_path}/feat_sel/chisqrd'\n",
    "config['outputs']['feat_sel']['cramer'] = f'{hdfs_path}/feat_sel/cramer'\n",
    "config['outputs']['feat_sel']['mtinfo'] = f'{hdfs_path}/feat_sel/mtinfo'\n",
    "config['outputs']['feat_sel']['chosen'] = f'{hdfs_path}/feat_sel/chosen'\n",
    "config['outputs']['model'] = f'{hdfs_path}/model_{alias}'\n",
    "config['outputs']['assembler'] = f'{hdfs_path}/assembler_{alias}'\n",
    "config['outputs']['idx_fit'] = f'{hdfs_path}/idx_fit_{alias}'\n",
    "config['outputs']['ohe'] = f'{hdfs_path}/ohe_{alias}'\n",
    "config['outputs']['ohe_fit'] = f'{hdfs_path}/ohe_fit_{alias}'\n",
    "config['outputs']['feat_import'] = f'{hdfs_path}/feat_import_{alias}'\n",
    "config['outputs']['metrics'] = f'{hdfs_path}/metrics_{alias}'\n",
    "config['outputs']['ks_train'] = f'{hdfs_path}/ks_train_{alias}'\n",
    "config['outputs']['ks_test'] = f'{hdfs_path}/ks_test_{alias}'\n",
    "config['outputs']['ks_val'] = f'{hdfs_path}/ks_val_{alias}'"
   ]
  },
  {
   "cell_type": "code",
   "execution_count": null,
   "metadata": {
    "execution": {
     "iopub.execute_input": "2023-03-20T13:48:48.718216Z",
     "iopub.status.busy": "2023-03-20T13:48:48.717920Z",
     "iopub.status.idle": "2023-03-20T13:48:48.721798Z",
     "shell.execute_reply": "2023-03-20T13:48:48.720946Z",
     "shell.execute_reply.started": "2023-03-20T13:48:48.718192Z"
    }
   },
   "outputs": [],
   "source": [
    "# FEATURES PARAMETERS\n",
    "# features names to drop from the very beginning\n",
    "config['feat_drop'] = []"
   ]
  },
  {
   "cell_type": "code",
   "execution_count": null,
   "metadata": {
    "execution": {
     "iopub.execute_input": "2023-03-20T13:48:48.872625Z",
     "iopub.status.busy": "2023-03-20T13:48:48.872316Z",
     "iopub.status.idle": "2023-03-20T13:48:48.875864Z",
     "shell.execute_reply": "2023-03-20T13:48:48.875148Z",
     "shell.execute_reply.started": "2023-03-20T13:48:48.872599Z"
    }
   },
   "outputs": [],
   "source": [
    "# DATE PARAMETERS\n",
    "# Reference date and repective format used\n",
    "config['ini_date'] = ['Date', 'DateFormat']\n",
    "# qty of months ahead of reference date to use\n",
    "config['qty_months'] = 0"
   ]
  },
  {
   "cell_type": "code",
   "execution_count": null,
   "metadata": {
    "execution": {
     "iopub.execute_input": "2023-03-20T13:48:49.014911Z",
     "iopub.status.busy": "2023-03-20T13:48:49.014635Z",
     "iopub.status.idle": "2023-03-20T13:48:49.020256Z",
     "shell.execute_reply": "2023-03-20T13:48:49.019179Z",
     "shell.execute_reply.started": "2023-03-20T13:48:49.014886Z"
    }
   },
   "outputs": [],
   "source": [
    "# MODELING PARAMETERS\n",
    "config['conf'] = {}\n",
    "# Qty of columns to execute by time by the decorator \n",
    "# when running certains functions like countDistinct\n",
    "config['conf']['step_size'] = 200\n",
    "# Number of months to use as validation\n",
    "# pick always the lasts\n",
    "config['conf']['n_months_val'] = 1\n",
    "# Size of train without sampling\n",
    "config['conf']['train_size'] = 0.7\n",
    "# Prior by month to use in sampling\n",
    "config['conf']['prior_map'] = None\n",
    "# Min prior by month to use when sampling\n",
    "config['conf']['min_prior'] = None\n",
    "# Factor that multiples the original or given prior\n",
    "# when sampling\n",
    "config['conf']['factor_mult'] = 1\n",
    "# Shuffle splitted data\n",
    "config['conf']['shuffle'] = False\n",
    "# Persists at every frequency given when joining splited data\n",
    "config['conf']['cache_freq'] = 5\n",
    "# Identifier Columns\n",
    "config['conf']['spine'] = {'target_col': 'target',\n",
    "                           'artf_id_col': 'id',\n",
    "                           'ident_col': 'cliident',\n",
    "                           'date_col': 'data_date_part',\n",
    "                           'ind_split_col': 'ind_split'}\n",
    "# Threshold used to drop low variance columns\n",
    "# When using drop_mode_threshold\n",
    "config['conf']['null_threshold'] = 0.95\n",
    "# When using rmv_num_low_vars\n",
    "config['conf']['varc_threshold'] = 5\n",
    "# Binarys variables to input \"sin_info\" instead of 0\n",
    "config['conf']['bin_input'] = []\n",
    "# https://spark.apache.org/docs/3.1.2/api/python/reference/api/pyspark.sql.functions.approx_count_distinct.html\n",
    "config['conf']['rsd'] = 0.015\n",
    "# https://spark.apache.org/docs/3.1.1/api/python/reference/api/pyspark.sql.functions.var_pop.html\n",
    "# https://spark.apache.org/docs/latest/api/python/reference/pyspark.sql/api/pyspark.sql.functions.var_samp.html\n",
    "config['conf']['population'] = False\n",
    "# Used in repartition\n",
    "config['conf']['n_part'] = 100\n",
    "# FEATURE SELECTION PARAMETERS\n",
    "# Which feature selection type to use, option are:\n",
    "# infogain (feature importance of base model),\n",
    "# chisqrd (https://spark.apache.org/docs/latest/api/python/reference/api/pyspark.ml.feature.ChiSqSelector.html),\n",
    "# cramer (Cramer's V)\n",
    "# mtinfo (mutual information)\n",
    "config['conf']['feat_mode'] = 'infogain'\n",
    "# Options are:\n",
    "# top: Keeps the top x variables\n",
    "# percentile: For info gain keep all variables that sums up to x %\n",
    "# threshold: Keep all vars above x\n",
    "# perc: Keep x% of all variables\n",
    "config['conf']['criterion'] = 'percentile'\n",
    "config['conf']['top'] = 60\n",
    "config['conf']['percentile'] = 0.8\n",
    "config['conf']['threshold'] = 0.05\n",
    "config['conf']['perc'] = 0.3"
   ]
  },
  {
   "cell_type": "code",
   "execution_count": null,
   "metadata": {
    "execution": {
     "iopub.execute_input": "2023-03-20T13:48:49.253179Z",
     "iopub.status.busy": "2023-03-20T13:48:49.252862Z",
     "iopub.status.idle": "2023-03-20T13:48:49.256292Z",
     "shell.execute_reply": "2023-03-20T13:48:49.255650Z",
     "shell.execute_reply.started": "2023-03-20T13:48:49.253152Z"
    }
   },
   "outputs": [],
   "source": [
    "# SCORING PARAMETERS\n",
    "# Names of columns\n",
    "config['conf']['score_col'] = 'score'\n",
    "config['conf']['buckets_name'] = 'deciles'"
   ]
  },
  {
   "cell_type": "code",
   "execution_count": null,
   "metadata": {
    "execution": {
     "iopub.execute_input": "2023-03-20T13:48:49.453035Z",
     "iopub.status.busy": "2023-03-20T13:48:49.452734Z",
     "iopub.status.idle": "2023-03-20T13:48:49.456255Z",
     "shell.execute_reply": "2023-03-20T13:48:49.455622Z",
     "shell.execute_reply.started": "2023-03-20T13:48:49.453007Z"
    }
   },
   "outputs": [],
   "source": [
    "# EVALUATE PARAMETERS\n",
    "config['conf']['eval'] = {}\n",
    "# Error when calculating percentiles\n",
    "config['conf']['eval']['error'] = 0\n",
    "# How many groups to discretize\n",
    "config['conf']['eval']['buckets'] = 10"
   ]
  },
  {
   "cell_type": "code",
   "execution_count": null,
   "metadata": {
    "execution": {
     "iopub.execute_input": "2023-03-20T13:48:49.622801Z",
     "iopub.status.busy": "2023-03-20T13:48:49.622489Z",
     "iopub.status.idle": "2023-03-20T13:48:49.626148Z",
     "shell.execute_reply": "2023-03-20T13:48:49.625480Z",
     "shell.execute_reply.started": "2023-03-20T13:48:49.622772Z"
    }
   },
   "outputs": [],
   "source": [
    "# MAILING PARAMETERS\n",
    "config['from'] = 'felipemonteiro@outlook.com'\n",
    "config['to'] = ['felipemonteiro@outlook.com']\n",
    "config['cc'] = []"
   ]
  },
  {
   "cell_type": "code",
   "execution_count": null,
   "metadata": {
    "execution": {
     "iopub.execute_input": "2023-03-20T13:48:49.801204Z",
     "iopub.status.busy": "2023-03-20T13:48:49.800855Z",
     "iopub.status.idle": "2023-03-20T13:48:49.804783Z",
     "shell.execute_reply": "2023-03-20T13:48:49.804005Z",
     "shell.execute_reply.started": "2023-03-20T13:48:49.801157Z"
    }
   },
   "outputs": [],
   "source": [
    "# PY FILES PARAMETERS\n",
    "config['py_file0'] = f'{curr_dir}/scorer.zip'\n",
    "config['py_file1'] = '/path/package.egg'"
   ]
  },
  {
   "cell_type": "code",
   "execution_count": null,
   "metadata": {
    "execution": {
     "iopub.execute_input": "2023-03-20T13:48:50.172836Z",
     "iopub.status.busy": "2023-03-20T13:48:50.172534Z",
     "iopub.status.idle": "2023-03-20T13:48:50.176762Z",
     "shell.execute_reply": "2023-03-20T13:48:50.175807Z",
     "shell.execute_reply.started": "2023-03-20T13:48:50.172811Z"
    }
   },
   "outputs": [],
   "source": [
    "# LOGGER PARAMETERS\n",
    "config['logger_files'] = ['log.log', 'stdlog.log']"
   ]
  },
  {
   "cell_type": "code",
   "execution_count": null,
   "metadata": {},
   "outputs": [],
   "source": [
    "# REPORT FILES\n",
    "config['rep_feat_sel'] = f'feature_selection_{project}_{alias}.xlsx'\n",
    "config['rep_perfnce'] = f'performance_{project}_{alias}.xlsx'\n",
    "config['rep_auditnum'] = f'{project}_auditnum'\n",
    "config['rep_auditcat'] = f'{project}_auditcat'"
   ]
  },
  {
   "cell_type": "markdown",
   "metadata": {},
   "source": [
    "### Gen File"
   ]
  },
  {
   "cell_type": "code",
   "execution_count": null,
   "metadata": {
    "execution": {
     "iopub.execute_input": "2023-03-20T13:48:51.554133Z",
     "iopub.status.busy": "2023-03-20T13:48:51.553781Z",
     "iopub.status.idle": "2023-03-20T13:48:51.559676Z",
     "shell.execute_reply": "2023-03-20T13:48:51.558995Z",
     "shell.execute_reply.started": "2023-03-20T13:48:51.554102Z"
    }
   },
   "outputs": [],
   "source": [
    "config"
   ]
  },
  {
   "cell_type": "code",
   "execution_count": null,
   "metadata": {
    "execution": {
     "iopub.execute_input": "2023-03-13T13:35:12.599654Z",
     "iopub.status.busy": "2023-03-13T13:35:12.599319Z",
     "iopub.status.idle": "2023-03-13T13:35:12.610869Z",
     "shell.execute_reply": "2023-03-13T13:35:12.609867Z",
     "shell.execute_reply.started": "2023-03-13T13:35:12.599626Z"
    }
   },
   "outputs": [],
   "source": [
    "with open(config_name, 'w', encoding='utf-8') as f:\n",
    "    json.dump(config, f, ensure_ascii=False, indent=4)"
   ]
  },
  {
   "cell_type": "code",
   "execution_count": null,
   "metadata": {},
   "outputs": [],
   "source": []
  }
 ],
 "metadata": {
  "kernelspec": {
   "display_name": "Ipy3Spark2",
   "language": "python",
   "name": "ipy3spark2"
  },
  "language_info": {
   "codemirror_mode": {
    "name": "ipython",
    "version": 3
   },
   "file_extension": ".py",
   "mimetype": "text/x-python",
   "name": "python",
   "nbconvert_exporter": "python",
   "pygments_lexer": "ipython3",
   "version": "3.7.7"
  }
 },
 "nbformat": 4,
 "nbformat_minor": 4
}
